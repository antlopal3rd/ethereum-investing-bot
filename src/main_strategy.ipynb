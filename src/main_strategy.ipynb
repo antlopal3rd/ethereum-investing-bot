{
 "cells": [
  {
   "cell_type": "code",
   "execution_count": null,
   "id": "1b99fbb0",
   "metadata": {},
   "outputs": [],
   "source": [
    "import time\n",
    "import websocket\n",
    "import rel\n",
    "import _thread\n",
    "\n",
    "from binance.client import Client\n",
    "\n",
    "import pandas as pd\n",
    "import numpy as np\n",
    "\n",
    "import warnings\n",
    "warnings.filterwarnings(\"ignore\")\n",
    "\n",
    "from talib import abstract"
   ]
  },
  {
   "cell_type": "code",
   "execution_count": null,
   "id": "c82253f9",
   "metadata": {},
   "outputs": [],
   "source": [
    "with open('../data/api.txt', 'r') as file:\n",
    "    api_key = file.readlines()[0].split(\"\\n\")[0]"
   ]
  },
  {
   "cell_type": "code",
   "execution_count": null,
   "id": "6b4eea1f",
   "metadata": {},
   "outputs": [],
   "source": [
    "with open('../data/api.txt', 'r') as file:\n",
    "    api_secret = file.readlines()[1].split(\"\\n\")[0]"
   ]
  },
  {
   "cell_type": "code",
   "execution_count": null,
   "id": "3e781c26",
   "metadata": {},
   "outputs": [],
   "source": [
    "client = Client(api_key, api_secret)"
   ]
  },
  {
   "cell_type": "code",
   "execution_count": null,
   "id": "644ea5d9",
   "metadata": {},
   "outputs": [],
   "source": [
    "symbol = \"ETHUSDT\" #in uppercase\n",
    "frequency = \"4h\" #in lowercase except month\n",
    "endpoint = f\"wss://stream.binance.com:9443/ws/{symbol}@kline_{frequency}\""
   ]
  },
  {
   "cell_type": "code",
   "execution_count": null,
   "id": "47149aa1",
   "metadata": {},
   "outputs": [],
   "source": [
    "#parameters for obtaining historical data\n",
    "\n",
    "klines_dict = {\n",
    "    \n",
    "    \"1m\" : Client.KLINE_INTERVAL_1MINUTE,\n",
    "    \"3m\" : Client.KLINE_INTERVAL_3MINUTE,\n",
    "    \"5m\" : Client.KLINE_INTERVAL_5MINUTE,\n",
    "    \"15m\" : Client.KLINE_INTERVAL_15MINUTE,\n",
    "    \"30m\" : Client.KLINE_INTERVAL_30MINUTE,\n",
    "    \"1h\" : Client.KLINE_INTERVAL_1HOUR,\n",
    "    \"2h\" : Client.KLINE_INTERVAL_2HOUR,\n",
    "    \"4h\" : Client.KLINE_INTERVAL_4HOUR,\n",
    "    \"6h\" : Client.KLINE_INTERVAL_6HOUR,\n",
    "    \"8h\" : Client.KLINE_INTERVAL_8HOUR,\n",
    "    \"12h\" : Client.KLINE_INTERVAL_12HOUR,\n",
    "    \"1d\" : Client.KLINE_INTERVAL_1DAY,\n",
    "    \"3d\" : Client.KLINE_INTERVAL_3DAY,\n",
    "    \"1w\" : Client.KLINE_INTERVAL_1WEEK,\n",
    "    \"1M\" : Client.KLINE_INTERVAL_1MONTH\n",
    "\n",
    "}\n",
    "\n",
    "#how far back you want historical data? examples:\n",
    "\n",
    "# 30 minutes ago UTC\n",
    "# 1 day ago UTC\n",
    "# 1 Dec, 2017"
   ]
  },
  {
   "cell_type": "code",
   "execution_count": null,
   "id": "8b7594a2",
   "metadata": {},
   "outputs": [],
   "source": [
    "klines = client.get_historical_klines(symbol, klines_dict[frequency], \"1 Dec, 2017\")"
   ]
  },
  {
   "cell_type": "code",
   "execution_count": null,
   "id": "8ae9c5d2",
   "metadata": {},
   "outputs": [],
   "source": [
    "open_time, open_, high, low, close, volume, close_time, volume_quoted, num_trades = ([] for i in range(9))\n",
    "\n",
    "for candle in klines:\n",
    "    open_time.append(candle[0])\n",
    "    open_.append(candle[1])\n",
    "    high.append(candle[2])\n",
    "    low.append(candle[3])\n",
    "    close.append(candle[4])\n",
    "    volume.append(candle[5])\n",
    "    close_time.append(candle[6])\n",
    "    volume_quoted.append(candle[7])\n",
    "    num_trades.append(candle[8])"
   ]
  },
  {
   "cell_type": "code",
   "execution_count": null,
   "id": "29a03ac2",
   "metadata": {},
   "outputs": [],
   "source": [
    "data = pd.DataFrame({\"Date\" : open_time, \"Open\" : open_, \"High\" : high, \"Low\" : low, \"Close\" : close, \"Volume\" : volume_quoted})"
   ]
  },
  {
   "cell_type": "code",
   "execution_count": null,
   "id": "d995973c",
   "metadata": {},
   "outputs": [],
   "source": [
    "data.Date = pd.to_datetime(data.Date, unit='ms')\n",
    "\n",
    "data.set_index(data.Date, inplace=True, drop=True)\n",
    "\n",
    "data.drop(\"Date\", axis=1, inplace=True)\n",
    "\n",
    "for column in data.columns:\n",
    "    data[column] = data[column].astype(float)\n",
    "    \n",
    "data.index.name = None"
   ]
  },
  {
   "cell_type": "code",
   "execution_count": null,
   "id": "e29ac019",
   "metadata": {},
   "outputs": [],
   "source": [
    "# for talib to calculate indicators\n",
    "inputs = {\n",
    "    'open': np.array(data.Open),\n",
    "    'high': np.array(data.High),\n",
    "    'low': np.array(data.Low),\n",
    "    'close': np.array(data.Close),\n",
    "    'volume': np.array(data.Volume)\n",
    "}"
   ]
  },
  {
   "cell_type": "code",
   "execution_count": null,
   "id": "a7b98839",
   "metadata": {},
   "outputs": [],
   "source": [
    "print(f\"Number of rows: {len(data)}\")\n",
    "print(f\"Starting date: {data.index[0]}\")"
   ]
  },
  {
   "cell_type": "code",
   "execution_count": null,
   "id": "d54a37ef",
   "metadata": {},
   "outputs": [],
   "source": [
    "#indicators\n",
    "data[\"EMA200\"] = abstract.EMA(inputs, timeperiod=200)\n",
    "data[\"Slope200\"] = abstract.LINEARREG_SLOPE(inputs, timeperiod=200)\n",
    "data[\"EMA21\"] = abstract.EMA(inputs, timeperiod=21)\n",
    "data[\"Slope21\"] = abstract.LINEARREG_SLOPE(inputs, timeperiod=21)\n",
    "data[\"EMA13\"] = abstract.EMA(inputs, timeperiod=13)\n",
    "data[\"Slope13\"] = abstract.LINEARREG_SLOPE(inputs, timeperiod=13)\n",
    "data[\"RSI\"] = abstract.RSI(inputs, timeperiod=14)"
   ]
  },
  {
   "cell_type": "code",
   "execution_count": null,
   "id": "4858d928",
   "metadata": {},
   "outputs": [],
   "source": [
    "data.dropna(inplace=True) #drop rows with null values"
   ]
  },
  {
   "cell_type": "code",
   "execution_count": null,
   "id": "22a65aa3",
   "metadata": {},
   "outputs": [],
   "source": [
    "from backtesting import Backtest, Strategy\n",
    "from backtesting.lib import crossover, TrailingStrategy, cross"
   ]
  },
  {
   "cell_type": "code",
   "execution_count": null,
   "id": "ffb2d0d6",
   "metadata": {},
   "outputs": [],
   "source": [
    "class MyStrategy(Strategy):\n",
    "    \n",
    "    risk = 0.015\n",
    "    stop_loss = 38\n",
    "    stop_loss = stop_loss/1000\n",
    "    a = 124 # slope 200 EMA for longs\n",
    "    c = 85 # take profit for shorts\n",
    "    s_200 = -3 #slope for 200 EMA for shorts\n",
    "    s_21 = 292\n",
    "    s_13 = -16\n",
    "    rsi = 53\n",
    "    \n",
    "    def init(self):\n",
    "        \n",
    "        super().init()\n",
    "    \n",
    "    def next(self):\n",
    "        \n",
    "        super().next()\n",
    "                \n",
    "        if len(self.trades) > 0 and self.position.is_long:\n",
    "            if self.data.EMA200 > self.data.EMA13:\n",
    "                self.position.close()\n",
    "        elif len(self.trades) > 0 and self.position.is_short:\n",
    "            if self.data.EMA200 < self.data.EMA13:\n",
    "                self.position.close()\n",
    "             \n",
    "        elif crossover(self.data.EMA13, self.data.EMA200) and len(self.trades) == 0 and self.data.Slope200 < self.a/100:\n",
    "            self.buy(size=self.risk/self.stop_loss, sl=self.data.Close*(1-self.stop_loss))\n",
    "            \n",
    "        elif cross(self.data.EMA13, self.data.EMA200) and len(self.trades) == 0 and self.data.EMA13 < self.data.EMA200:\n",
    "            self.sell(size=self.risk/self.stop_loss, sl=self.data.Close*(1+self.stop_loss), tp=self.data.Close*(self.c/100))\n",
    "            \n",
    "        elif self.data.Close < self.data.EMA200 and self.data.Slope200 < (self.s_200/100) and self.data.Slope21 < (self.s_21/100) and self.data.Slope13 < (self.s_13/100) and len(self.trades) == 0 and self.data.RSI > self.rsi:\n",
    "            self.sell(size=self.risk/self.stop_loss, sl=self.data.Close*(1+self.stop_loss), tp=self.data.Close*(self.c/100))\n",
    "            \n",
    "                \n",
    "bt = Backtest(data, MyStrategy, cash=25000, commission=0.001)\n",
    "stats = bt.run()\n",
    "stats"
   ]
  },
  {
   "cell_type": "code",
   "execution_count": null,
   "id": "f34543b6",
   "metadata": {},
   "outputs": [],
   "source": [
    "trades = stats._trades # results"
   ]
  },
  {
   "cell_type": "code",
   "execution_count": null,
   "id": "6df9e126",
   "metadata": {},
   "outputs": [],
   "source": [
    "len(trades[trades.Size < 0]) #short trades"
   ]
  },
  {
   "cell_type": "code",
   "execution_count": null,
   "id": "6935b350",
   "metadata": {},
   "outputs": [],
   "source": [
    "trades[trades.Size<0].Duration.mean() #average short duration"
   ]
  },
  {
   "cell_type": "code",
   "execution_count": null,
   "id": "08dad1d0",
   "metadata": {},
   "outputs": [],
   "source": [
    "len(trades[(trades.Size < 0) & (trades.ReturnPct > 0)]) / len(trades[trades.Size < 0]) * 100 # win ratio shorts %"
   ]
  },
  {
   "cell_type": "code",
   "execution_count": null,
   "id": "b10d9964",
   "metadata": {},
   "outputs": [],
   "source": [
    "len(trades[trades.Size > 0]) #long trades"
   ]
  },
  {
   "cell_type": "code",
   "execution_count": null,
   "id": "9acedc28",
   "metadata": {},
   "outputs": [],
   "source": [
    "trades[trades.Size>0].Duration.mean() #average long duration"
   ]
  },
  {
   "cell_type": "code",
   "execution_count": null,
   "id": "0c6a06d4",
   "metadata": {},
   "outputs": [],
   "source": [
    "len(trades[(trades.Size > 0) & (trades.ReturnPct > 0)]) / len(trades[trades.Size > 0])*100 # win ratio longs %"
   ]
  },
  {
   "cell_type": "code",
   "execution_count": null,
   "id": "53c5a09e",
   "metadata": {},
   "outputs": [],
   "source": [
    "(1+stats._trades[:21].ReturnPct).cumprod().iloc[-1] # cumulative returns 2018 (-88.31%) 21 trades"
   ]
  },
  {
   "cell_type": "code",
   "execution_count": null,
   "id": "4c4b1d2e",
   "metadata": {},
   "outputs": [],
   "source": [
    "(1+stats._trades[21:39].ReturnPct).cumprod().iloc[-1] # cumulative returns 2019 (1,74%) 18 trades"
   ]
  },
  {
   "cell_type": "code",
   "execution_count": null,
   "id": "650997cb",
   "metadata": {},
   "outputs": [],
   "source": [
    "(1+stats._trades[39:54].ReturnPct).cumprod().iloc[-1] # cumulative returns 2020 (470,16%) 15 trades"
   ]
  },
  {
   "cell_type": "code",
   "execution_count": null,
   "id": "0590d851",
   "metadata": {},
   "outputs": [],
   "source": [
    "(1+stats._trades[54:71].ReturnPct).cumprod().iloc[-1] # cumulative returns 2021 (399,20%) 17 trades"
   ]
  },
  {
   "cell_type": "code",
   "execution_count": null,
   "id": "c940261b",
   "metadata": {},
   "outputs": [],
   "source": [
    "(1+stats._trades[71:].ReturnPct).cumprod().iloc[-1] # cumulative returns now 2022 (now -63.85%) 26 trades"
   ]
  },
  {
   "cell_type": "code",
   "execution_count": null,
   "id": "1f76cb7e",
   "metadata": {},
   "outputs": [],
   "source": [
    "0.975**27 #28 trades to loose half your money"
   ]
  },
  {
   "cell_type": "code",
   "execution_count": null,
   "id": "4dded095",
   "metadata": {},
   "outputs": [],
   "source": [
    "(1 + trades[88:].ReturnPct).cumprod().iloc[-1] \n",
    "#profitability during bootcamp period (since July) 37.5% win rate 9 trades 3 wins 5 losses 1 neutral"
   ]
  },
  {
   "cell_type": "markdown",
   "id": "2e00a676",
   "metadata": {},
   "source": [
    "## Visualization"
   ]
  },
  {
   "cell_type": "code",
   "execution_count": null,
   "id": "36edfcfc",
   "metadata": {},
   "outputs": [],
   "source": [
    "filtered = trades[[\"Size\",\"EntryBar\",\"ExitBar\"]]\n",
    "short_entries = list(filtered[filtered.Size<0].EntryBar)\n",
    "short_closes = list(filtered[filtered.Size<0].ExitBar)\n",
    "long_entries = list(filtered[filtered.Size>0].EntryBar)\n",
    "long_closes = list(filtered[filtered.Size>0].ExitBar)"
   ]
  },
  {
   "cell_type": "code",
   "execution_count": null,
   "id": "2792a259",
   "metadata": {},
   "outputs": [],
   "source": [
    "data[\"Entry_trade\"] = [np.nan] * len(data)\n",
    "data[\"Closing_trade\"] = [np.nan] * len(data)"
   ]
  },
  {
   "cell_type": "code",
   "execution_count": null,
   "id": "a3cae525",
   "metadata": {},
   "outputs": [],
   "source": [
    "for num, row in enumerate(data[\"Closing_trade\"]):\n",
    "    if num in long_closes:\n",
    "        data[\"Closing_trade\"].iloc[num] = data[\"Close\"].iloc[num]+60 # long closing code\n",
    "    elif num in short_closes:\n",
    "        data[\"Closing_trade\"].iloc[num] = data[\"Close\"].iloc[num]-60 # short closing code"
   ]
  },
  {
   "cell_type": "code",
   "execution_count": null,
   "id": "07a41d2f",
   "metadata": {},
   "outputs": [],
   "source": [
    "for num, row in enumerate(data[\"Entry_trade\"]):\n",
    "    if num in long_entries:\n",
    "        data[\"Entry_trade\"].iloc[num] = data[\"Close\"].iloc[num]+60 # long entry code\n",
    "    elif num in short_entries:\n",
    "        data[\"Entry_trade\"].iloc[num] = data[\"Close\"].iloc[num]-60 # short entry code"
   ]
  },
  {
   "cell_type": "code",
   "execution_count": null,
   "id": "c517c7fc",
   "metadata": {},
   "outputs": [],
   "source": [
    "import plotly.graph_objects as go\n",
    "from plotly.subplots import make_subplots\n",
    "from datetime import datetime"
   ]
  },
  {
   "cell_type": "code",
   "execution_count": null,
   "id": "129e54cf",
   "metadata": {},
   "outputs": [],
   "source": [
    "data_plot = data[9823:] #prework and bootcamp duration (change to desired length)\n",
    "\n",
    "figure = go.Figure(data= [go.Candlestick(x=data_plot.index,\n",
    "                                       open = data_plot.Open,\n",
    "                                       high = data_plot.High,\n",
    "                                       low = data_plot.Low,\n",
    "                                       close = data_plot.Close,\n",
    "                                       increasing_line_color= 'yellow', decreasing_line_color= 'blue'),\n",
    "                                       go.Scatter(x=data_plot.index ,y=data_plot.EMA200 , line=dict(color='purple', width=1), name=\"EMA200\"),\n",
    "                                       go.Scatter(x=data_plot.index ,y=data_plot.EMA21 , line=dict(color='pink', width=1), name=\"EMA21\"),\n",
    "                                       go.Scatter(x=data_plot.index ,y=data_plot.EMA13 , line=dict(color='black', width=1), name=\"EMA13\")])\n",
    "\n",
    "figure.add_scatter(x=data_plot.index, y=data_plot['Entry_trade'], mode=\"markers\",\n",
    "                marker=dict(size=10, color=\"Green\"),\n",
    "                name=\"EntrySignals\")\n",
    "\n",
    "figure.add_scatter(x=data_plot.index, y=data_plot['Closing_trade'], mode=\"markers\",\n",
    "                marker=dict(size=6, color=\"Red\"),\n",
    "                name=\"ClosingSignals\")\n",
    "\n",
    "figure.update(layout_xaxis_rangeslider_visible = False) #to hide slider\n",
    "figure.update_layout(margin_l = 0, margin_b = 0, margin_r = 0, margin_t = 50) # for margins\n",
    "# figure.update_xaxis(showline=True, linewidth=2, linecolor=\"black\", gridcolor=\"black\")\n",
    "# figure.update_yaxis(showline=True, linewidth=2, linecolor=\"black\", gridcolor=\"black\")\n",
    "figure.update_layout(title='The Ethereum Bot 4H Strategy', yaxis_title='ETH Price')\n",
    "\n",
    "#increasing_line_color= 'cyan', decreasing_line_color= 'gray' to change candle colors (include in data list)\n",
    "figure.show()"
   ]
  },
  {
   "cell_type": "code",
   "execution_count": null,
   "id": "9dd5635a",
   "metadata": {},
   "outputs": [],
   "source": [
    "import plotly.express as px # to export figure\n",
    "\n",
    "figure.write_html(\"ethereum4hbotnew.html\")"
   ]
  }
 ],
 "metadata": {
  "kernelspec": {
   "display_name": "Python 3 (ipykernel)",
   "language": "python",
   "name": "python3"
  },
  "language_info": {
   "codemirror_mode": {
    "name": "ipython",
    "version": 3
   },
   "file_extension": ".py",
   "mimetype": "text/x-python",
   "name": "python",
   "nbconvert_exporter": "python",
   "pygments_lexer": "ipython3",
   "version": "3.8.13"
  }
 },
 "nbformat": 4,
 "nbformat_minor": 5
}
