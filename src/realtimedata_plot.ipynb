{
 "cells": [
  {
   "cell_type": "code",
   "execution_count": null,
   "id": "721ed016",
   "metadata": {},
   "outputs": [],
   "source": [
    "import time\n",
    "import websocket\n",
    "import rel\n",
    "import _thread\n",
    "\n",
    "from binance.client import Client\n",
    "\n",
    "import json\n",
    "\n",
    "import numpy as np\n",
    "import pandas as pd"
   ]
  },
  {
   "cell_type": "code",
   "execution_count": null,
   "id": "683ad496",
   "metadata": {},
   "outputs": [],
   "source": [
    "with open('../data/api.txt', 'r') as file:\n",
    "    api_key = file.readlines()[0].split(\"\\n\")[0]"
   ]
  },
  {
   "cell_type": "code",
   "execution_count": null,
   "id": "87e32f15",
   "metadata": {},
   "outputs": [],
   "source": [
    "with open('../data/api.txt', 'r') as file:\n",
    "    api_secret = file.readlines()[1].split(\"\\n\")[0]"
   ]
  },
  {
   "cell_type": "code",
   "execution_count": null,
   "id": "b273fc66",
   "metadata": {},
   "outputs": [],
   "source": [
    "client = Client(api_key, api_secret)"
   ]
  },
  {
   "cell_type": "code",
   "execution_count": null,
   "id": "ddb7dd92",
   "metadata": {},
   "outputs": [],
   "source": [
    "symbol = \"ETHUSDT\" #in uppercase\n",
    "frequency = \"1m\" #in lowercase except month\n",
    "endpoint = f\"wss://stream.binance.com:9443/ws/{symbol}@kline_{frequency}\""
   ]
  },
  {
   "cell_type": "code",
   "execution_count": null,
   "id": "5c63a0fe",
   "metadata": {},
   "outputs": [],
   "source": [
    "#parameters for obtaining historical data\n",
    "\n",
    "klines_dict = {\n",
    "    \n",
    "    \"1m\" : Client.KLINE_INTERVAL_1MINUTE,\n",
    "    \"3m\" : Client.KLINE_INTERVAL_3MINUTE,\n",
    "    \"5m\" : Client.KLINE_INTERVAL_5MINUTE,\n",
    "    \"15m\" : Client.KLINE_INTERVAL_15MINUTE,\n",
    "    \"30m\" : Client.KLINE_INTERVAL_30MINUTE,\n",
    "    \"1h\" : Client.KLINE_INTERVAL_1HOUR,\n",
    "    \"2h\" : Client.KLINE_INTERVAL_2HOUR,\n",
    "    \"4h\" : Client.KLINE_INTERVAL_4HOUR,\n",
    "    \"6h\" : Client.KLINE_INTERVAL_6HOUR,\n",
    "    \"8h\" : Client.KLINE_INTERVAL_8HOUR,\n",
    "    \"12h\" : Client.KLINE_INTERVAL_12HOUR,\n",
    "    \"1d\" : Client.KLINE_INTERVAL_1DAY,\n",
    "    \"3d\" : Client.KLINE_INTERVAL_3DAY,\n",
    "    \"1w\" : Client.KLINE_INTERVAL_1WEEK,\n",
    "    \"1M\" : Client.KLINE_INTERVAL_1MONTH\n",
    "\n",
    "}\n",
    "\n",
    "#how far back you want historical data? examples:\n",
    "\n",
    "# 30 minutes ago UTC\n",
    "# 1 day ago UTC\n",
    "# 1 Dec, 2017"
   ]
  },
  {
   "cell_type": "code",
   "execution_count": null,
   "id": "5b5dc3b2",
   "metadata": {},
   "outputs": [],
   "source": [
    "def get_data(symbol, timeframe, lookback): #lookback in number of minutes\n",
    "    \n",
    "    data = pd.DataFrame(client.get_historical_klines(symbol, timeframe, lookback + \" min ago UTC\"))\n",
    "    data.drop([6,9,10,11], inplace=True, axis=1)\n",
    "    data.columns = [\"Date\", \"Open\", \"High\", \"Low\", \"Close\", \"Volume\", \"Volume_quoted\", \"Num_trades\"]\n",
    "    data = data.set_index(\"Date\")\n",
    "    data.index = pd.to_datetime(data.index, unit=\"ms\")\n",
    "    data = data.astype(\"float\")\n",
    "    \n",
    "    return data\n",
    "\n",
    "# returns dataframe all sorted"
   ]
  },
  {
   "cell_type": "code",
   "execution_count": null,
   "id": "5ff1ab03",
   "metadata": {},
   "outputs": [],
   "source": [
    "import matplotlib.pyplot as plt\n",
    "from matplotlib.animation import FuncAnimation\n",
    "import matplotlib.dates as mdates"
   ]
  },
  {
   "cell_type": "code",
   "execution_count": null,
   "id": "b651d5d4",
   "metadata": {},
   "outputs": [],
   "source": [
    "%matplotlib notebook "
   ]
  },
  {
   "cell_type": "code",
   "execution_count": null,
   "id": "a04abc3f",
   "metadata": {},
   "outputs": [],
   "source": [
    "plt.style.use('fivethirtyeight')"
   ]
  },
  {
   "cell_type": "code",
   "execution_count": null,
   "id": "5fdbfd32",
   "metadata": {},
   "outputs": [],
   "source": [
    "def animated(freq):\n",
    "    plot_data = get_data(symbol, \"1m\", \"120\")\n",
    "    plt.cla()\n",
    "    plt.plot(plot_data.index, plot_data.Close)\n",
    "    plt.title(symbol)\n",
    "    plt.gcf().autofmt_xdate()\n",
    "    plt.gca().xaxis.set_major_formatter(mdates.DateFormatter('%H:%M'))\n",
    "    #plt.tight_layout()"
   ]
  },
  {
   "cell_type": "code",
   "execution_count": null,
   "id": "da62e41b",
   "metadata": {},
   "outputs": [],
   "source": [
    "animation = FuncAnimation(plt.gcf(), animated, 1000)\n",
    "\n",
    "#plt.tight_layout()\n",
    "plt.show()"
   ]
  },
  {
   "cell_type": "code",
   "execution_count": null,
   "id": "539743b1",
   "metadata": {},
   "outputs": [],
   "source": [
    "#video = animation.to_html5_video()\n",
    "#html = display.HTML(video)\n",
    "#display.display(html)plt.close()\n",
    "\n",
    "# to save as an animated video"
   ]
  }
 ],
 "metadata": {
  "kernelspec": {
   "display_name": "Python 3 (ipykernel)",
   "language": "python",
   "name": "python3"
  },
  "language_info": {
   "codemirror_mode": {
    "name": "ipython",
    "version": 3
   },
   "file_extension": ".py",
   "mimetype": "text/x-python",
   "name": "python",
   "nbconvert_exporter": "python",
   "pygments_lexer": "ipython3",
   "version": "3.8.13"
  }
 },
 "nbformat": 4,
 "nbformat_minor": 5
}
