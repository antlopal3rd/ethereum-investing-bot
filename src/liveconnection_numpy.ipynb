{
 "cells": [
  {
   "cell_type": "code",
   "execution_count": null,
   "id": "7a4664b5",
   "metadata": {},
   "outputs": [],
   "source": [
    "#pip install websocket-client"
   ]
  },
  {
   "cell_type": "code",
   "execution_count": null,
   "id": "8928d7ea",
   "metadata": {},
   "outputs": [],
   "source": [
    "#pip install python-binance"
   ]
  },
  {
   "cell_type": "code",
   "execution_count": null,
   "id": "dd823643",
   "metadata": {},
   "outputs": [],
   "source": [
    "# installed TA-Lib through Anaconda (conda install -c conda-forge ta-lib)"
   ]
  },
  {
   "cell_type": "code",
   "execution_count": null,
   "id": "0a46cbdd",
   "metadata": {},
   "outputs": [],
   "source": [
    "import time\n",
    "import websocket\n",
    "import rel\n",
    "import _thread\n",
    "\n",
    "from binance.client import Client\n",
    "\n",
    "import json\n",
    "\n",
    "import numpy as np\n",
    "import pandas as pd"
   ]
  },
  {
   "cell_type": "code",
   "execution_count": null,
   "id": "57f2472b",
   "metadata": {},
   "outputs": [],
   "source": [
    "with open('../data/api.txt', 'r') as file:\n",
    "    api_key = file.readlines()[0].split(\"\\n\")[0] # to read public key from text file"
   ]
  },
  {
   "cell_type": "code",
   "execution_count": null,
   "id": "1b6c8c50",
   "metadata": {},
   "outputs": [],
   "source": [
    "with open('../data/api.txt', 'r') as file:\n",
    "    api_secret = file.readlines()[1].split(\"\\n\")[0] # to read secret key from text file"
   ]
  },
  {
   "cell_type": "code",
   "execution_count": null,
   "id": "753fd093",
   "metadata": {},
   "outputs": [],
   "source": [
    "client = Client(api_key, api_secret)"
   ]
  },
  {
   "cell_type": "code",
   "execution_count": null,
   "id": "a206f809",
   "metadata": {},
   "outputs": [],
   "source": [
    "symbol = \"ETHUSDT\" #in uppercase\n",
    "frequency = \"1m\" #in lowercase except month\n",
    "endpoint = f\"wss://stream.binance.com:9443/ws/{symbol}@kline_{frequency}\""
   ]
  },
  {
   "cell_type": "code",
   "execution_count": null,
   "id": "f0cb35f2",
   "metadata": {},
   "outputs": [],
   "source": [
    "#parameters for obtaining historical data\n",
    "\n",
    "klines_dict = {\n",
    "    \n",
    "    \"1m\" : Client.KLINE_INTERVAL_1MINUTE,\n",
    "    \"3m\" : Client.KLINE_INTERVAL_3MINUTE,\n",
    "    \"5m\" : Client.KLINE_INTERVAL_5MINUTE,\n",
    "    \"15m\" : Client.KLINE_INTERVAL_15MINUTE,\n",
    "    \"30m\" : Client.KLINE_INTERVAL_30MINUTE,\n",
    "    \"1h\" : Client.KLINE_INTERVAL_1HOUR,\n",
    "    \"2h\" : Client.KLINE_INTERVAL_2HOUR,\n",
    "    \"4h\" : Client.KLINE_INTERVAL_4HOUR,\n",
    "    \"6h\" : Client.KLINE_INTERVAL_6HOUR,\n",
    "    \"8h\" : Client.KLINE_INTERVAL_8HOUR,\n",
    "    \"12h\" : Client.KLINE_INTERVAL_12HOUR,\n",
    "    \"1d\" : Client.KLINE_INTERVAL_1DAY,\n",
    "    \"3d\" : Client.KLINE_INTERVAL_3DAY,\n",
    "    \"1w\" : Client.KLINE_INTERVAL_1WEEK,\n",
    "    \"1M\" : Client.KLINE_INTERVAL_1MONTH\n",
    "\n",
    "}\n",
    "\n",
    "#how far back you want historical data? examples:\n",
    "\n",
    "# 30 minutes ago UTC\n",
    "# 1 day ago UTC\n",
    "# 1 Dec, 2017"
   ]
  },
  {
   "cell_type": "code",
   "execution_count": null,
   "id": "18f6baa2",
   "metadata": {},
   "outputs": [],
   "source": [
    "klines = client.get_historical_klines(symbol, klines_dict[frequency], \"30 day ago UTC\")"
   ]
  },
  {
   "cell_type": "code",
   "execution_count": null,
   "id": "70a10057",
   "metadata": {},
   "outputs": [],
   "source": [
    "open_time, open_, high, low, close, volume, close_time, volume_quoted, num_trades = ([] for i in range(9))"
   ]
  },
  {
   "cell_type": "code",
   "execution_count": null,
   "id": "7776d69a",
   "metadata": {},
   "outputs": [],
   "source": [
    "for candle in klines:\n",
    "    open_time.append(candle[0])\n",
    "    open_.append(candle[1])\n",
    "    high.append(candle[2])\n",
    "    low.append(candle[3])\n",
    "    close.append(candle[4])\n",
    "    volume.append(candle[5])\n",
    "    close_time.append(candle[6])\n",
    "    volume_quoted.append(candle[7])\n",
    "    num_trades.append(candle[8])\n",
    "\n",
    "open_time = np.array(open_time).astype(float)\n",
    "open_ = np.array(open_).astype(float)\n",
    "high = np.array(high).astype(float)\n",
    "low = np.array(low).astype(float)\n",
    "close = np.array(close).astype(float)\n",
    "volume = np.array(volume).astype(float)\n",
    "close_time = np.array(close_time).astype(float)\n",
    "volume_quoted = np.array(volume_quoted).astype(float)\n",
    "num_trades = np.array(num_trades).astype(float)"
   ]
  },
  {
   "cell_type": "code",
   "execution_count": null,
   "id": "5031d238",
   "metadata": {},
   "outputs": [],
   "source": [
    "def on_open(ws):\n",
    "    print(\"Connection established\")\n",
    "    print(\"\")\n",
    "\n",
    "def on_message(ws, message):\n",
    "    \n",
    "    global open_time, open_, high, low, close, volume, close_time, volume_quoted, num_trades\n",
    "    \n",
    "    j_message = json.loads(message)\n",
    "    candle = j_message[\"k\"]\n",
    "    \n",
    "    is_candle_closed = candle[\"x\"]\n",
    "    \n",
    "    open_time_new = float(candle[\"t\"])\n",
    "    close_time_new = float(candle[\"T\"])\n",
    "    open_new = float(candle[\"o\"])\n",
    "    close_new = float(candle[\"c\"])\n",
    "    high_new = float(candle[\"h\"])\n",
    "    low_new = float(candle[\"l\"])\n",
    "    volume_new = float(candle[\"v\"])\n",
    "    num_trades_new = float(candle[\"n\"])\n",
    "    volume_quoted_new = float(candle[\"q\"])\n",
    "\n",
    "    \n",
    "    if is_candle_closed:\n",
    "                \n",
    "        open_time_new = np.array(open_time_new)\n",
    "        open_new = np.array(open_new)\n",
    "        high_new = np.array(high_new)\n",
    "        low_new = np.array(low_new)\n",
    "        close_new = np.array(close_new)\n",
    "        volume_new = np.array(volume_new)\n",
    "        close_time_new = np.array(close_time_new)\n",
    "        volume_quoted_new = np.array(volume_quoted_new)\n",
    "        num_trades_new = np.array(num_trades_new)\n",
    "        \n",
    "        open_time = np.insert(open_time, len(open_time), open_time_new, axis=0)\n",
    "        open_ = np.insert(open_, len(open_), open_new, axis=0)\n",
    "        high = np.insert(high, len(high), high_new, axis=0)\n",
    "        low = np.insert(low, len(low), low_new, axis=0)\n",
    "        close = np.insert(close, len(close), close_new, axis=0)\n",
    "        volume = np.insert(volume, len(volume), volume_new, axis=0)\n",
    "        close_time = np.insert(close_time, len(close_time), close_time_new, axis=0)\n",
    "        volume_quoted = np.insert(volume_quoted, len(volume_quoted), volume_quoted_new, axis=0)\n",
    "        num_trades = np.insert(num_trades, len(num_trades), num_trades_new, axis=0)\n",
    "\n",
    "        print(f\"Candle number {len(close)} added at closing price of {close[-1]}\")\n",
    "    \n",
    "def on_error(ws, error):\n",
    "    print(error)\n",
    "    \n",
    "def on_close(ws, close_status_code, close_msg):\n",
    "    print(\"Connection closed\")"
   ]
  },
  {
   "cell_type": "code",
   "execution_count": null,
   "id": "23fe19d6",
   "metadata": {},
   "outputs": [],
   "source": [
    "ws = websocket.WebSocketApp(endpoint,\n",
    "                            on_open=on_open,\n",
    "                            on_message=on_message,\n",
    "                            on_error=on_error,\n",
    "                            on_close=on_close)"
   ]
  },
  {
   "cell_type": "code",
   "execution_count": null,
   "id": "2abb0e24",
   "metadata": {},
   "outputs": [],
   "source": [
    "ws.run_forever() #numpy arrays will continue to add live information"
   ]
  }
 ],
 "metadata": {
  "kernelspec": {
   "display_name": "Python 3 (ipykernel)",
   "language": "python",
   "name": "python3"
  },
  "language_info": {
   "codemirror_mode": {
    "name": "ipython",
    "version": 3
   },
   "file_extension": ".py",
   "mimetype": "text/x-python",
   "name": "python",
   "nbconvert_exporter": "python",
   "pygments_lexer": "ipython3",
   "version": "3.8.13"
  }
 },
 "nbformat": 4,
 "nbformat_minor": 5
}
